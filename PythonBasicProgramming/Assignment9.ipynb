{
 "cells": [
  {
   "cell_type": "code",
   "execution_count": 11,
   "metadata": {},
   "outputs": [
    {
     "name": "stdout",
     "output_type": "stream",
     "text": [
      "Enter a number to check if it is Disarium Number: 135\n",
      "Given number 135 is a disarium number\n"
     ]
    }
   ],
   "source": [
    "#1. Write a Python program to check if the given number is a Disarium Number?\n",
    "number = input(\"Enter a number to check if it is Disarium Number: \")\n",
    "disarium = 0\n",
    "for i in range(len(number)):\n",
    "    disarium += int(number[i])**(i+1)\n",
    "\n",
    "if int(number) == disarium:\n",
    "    print(f\"Given number {number} is a disarium number\")\n",
    "else:\n",
    "    print(f\"Given number {number} is not a disarium number\")"
   ]
  },
  {
   "cell_type": "code",
   "execution_count": 12,
   "metadata": {},
   "outputs": [
    {
     "name": "stdout",
     "output_type": "stream",
     "text": [
      "1 2 3 4 5 6 7 8 9 89 "
     ]
    }
   ],
   "source": [
    "#2. Write a Python program to print all disarium numbers between 1 to 100?\n",
    "for i in range(1, 101):\n",
    "    number = str(i)\n",
    "    disarium = 0\n",
    "    for i in range(len(number)):\n",
    "        disarium += int(number[i])**(i+1)\n",
    "\n",
    "    if int(number) == disarium:\n",
    "        print(number, end=\" \")"
   ]
  },
  {
   "cell_type": "code",
   "execution_count": 16,
   "metadata": {},
   "outputs": [
    {
     "name": "stdout",
     "output_type": "stream",
     "text": [
      "Enter a number to check if it is a Happy Number: 49\n",
      "49 is a Happy number\n"
     ]
    }
   ],
   "source": [
    "#3. Write a Python program to check if the given number is Happy Number?\n",
    "def is_happy_number(n):\n",
    "    slow, fast = n, n\n",
    "    while(True):\n",
    "        slow = num_square_sum(slow)\n",
    "        fast = num_square_sum(num_square_sum(fast))\n",
    "        if(slow != fast):\n",
    "            continue;\n",
    "        else:\n",
    "            break\n",
    "    return (slow == 1)\n",
    "        \n",
    "def num_square_sum(n):\n",
    "    squareSum = 0;\n",
    "    while(n):\n",
    "        squareSum += (n % 10) * (n % 10);\n",
    "        n = int(n / 10);\n",
    "    return squareSum\n",
    "\n",
    "\n",
    "n = int(input(\"Enter a number to check if it is a Happy Number: \"))\n",
    "if is_happy_number(n):\n",
    "    print(f\"{n} is a Happy number\");\n",
    "else:\n",
    "    print(f\"{n} is not a Happy number\");"
   ]
  },
  {
   "cell_type": "code",
   "execution_count": 18,
   "metadata": {},
   "outputs": [
    {
     "name": "stdout",
     "output_type": "stream",
     "text": [
      "1 7 10 13 19 23 28 31 32 44 49 68 70 79 82 86 91 94 97 100 "
     ]
    }
   ],
   "source": [
    "#4. Write a Python program to print all happy numbers between 1 and 100?\n",
    "def is_happy_number(n):\n",
    "    slow, fast = n, n\n",
    "    while(True):\n",
    "        slow = num_square_sum(slow)\n",
    "        fast = num_square_sum(num_square_sum(fast))\n",
    "        if(slow != fast):\n",
    "            continue\n",
    "        else:\n",
    "            break\n",
    "    return (slow == 1)\n",
    "        \n",
    "def num_square_sum(n):\n",
    "    squareSum = 0\n",
    "    while(n):\n",
    "        squareSum += (n % 10) * (n % 10)\n",
    "        n = int(n / 10)\n",
    "    return squareSum\n",
    "\n",
    "for n in range(1, 101):\n",
    "    if is_happy_number(n):\n",
    "        print(n, end= \" \")"
   ]
  },
  {
   "cell_type": "code",
   "execution_count": 19,
   "metadata": {},
   "outputs": [
    {
     "name": "stdout",
     "output_type": "stream",
     "text": [
      "Enter a Number:18\n",
      "18 is a Harshad Number\n"
     ]
    }
   ],
   "source": [
    "#5. Write a Python program to determine whether the given number is a Harshad Number?\n",
    "# The number 18 is a harshad number in base 10, because the sum of the digits 1 and 8 is 9 (1 + 8 = 9), and 18 is divisible by 9.\n",
    "\n",
    "def is_harshad_number(n):\n",
    "    s = 0\n",
    "    for c in str(n):\n",
    "        s += int(c)\n",
    "        \n",
    "    if n % s == 0:\n",
    "        return True\n",
    "    return False\n",
    "\n",
    "x = int(input(\"Enter a Number:\"))\n",
    "if is_harshad_number(x):\n",
    "    print(f\"{x} is a Harshad Number\")\n",
    "else:\n",
    "    print(f\"{x} is not a Harshad Number\")"
   ]
  },
  {
   "cell_type": "code",
   "execution_count": 35,
   "metadata": {},
   "outputs": [
    {
     "name": "stdout",
     "output_type": "stream",
     "text": [
      "6 12 20 30 42 56 72 90 "
     ]
    }
   ],
   "source": [
    "#6. Write a Python program to print all pronic numbers between 1 and 100?\n",
    "def is_pronic_number(n):\n",
    "    for c in range(1,n-1):\n",
    "        if(n%c==0):\n",
    "            if(n%(c+1)==0):\n",
    "                if(c*(c+1)==n):\n",
    "                    return True\n",
    "\n",
    "for i in range(1, 101):\n",
    "    if is_pronic_number(i):\n",
    "        print(i, end= \" \")"
   ]
  }
 ],
 "metadata": {
  "kernelspec": {
   "display_name": "Python 3",
   "language": "python",
   "name": "python3"
  },
  "language_info": {
   "codemirror_mode": {
    "name": "ipython",
    "version": 3
   },
   "file_extension": ".py",
   "mimetype": "text/x-python",
   "name": "python",
   "nbconvert_exporter": "python",
   "pygments_lexer": "ipython3",
   "version": "3.7.7"
  }
 },
 "nbformat": 4,
 "nbformat_minor": 4
}
