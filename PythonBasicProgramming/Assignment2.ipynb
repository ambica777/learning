{
 "cells": [
  {
   "cell_type": "code",
   "execution_count": 13,
   "metadata": {},
   "outputs": [
    {
     "name": "stdout",
     "output_type": "stream",
     "text": [
      "Enter number of kilometers:7\n",
      "7.0 kms is same as 4.34 miles\n"
     ]
    }
   ],
   "source": [
    "##1. Write a Python program to convert kilometers to miles?\n",
    "\n",
    "kms = float(input(\"Enter number of kilometers:\"))\n",
    "print(f\"{kms} kms is same as {kms*0.62} miles\")"
   ]
  },
  {
   "cell_type": "code",
   "execution_count": 14,
   "metadata": {},
   "outputs": [
    {
     "name": "stdout",
     "output_type": "stream",
     "text": [
      "Enter temperature in Celsius degrees:37\n",
      "37.0 Celsius degrees is same as 98.60000000000001 Fahrenheit degrees\n"
     ]
    }
   ],
   "source": [
    "##2. Write a Python program to convert Celsius to Fahrenheit?\n",
    "c = float(input(\"Enter temperature in Celsius degrees:\"))\n",
    "print(f\"{c} Celsius degrees is same as {(c* 1.8)+32} Fahrenheit degrees\")"
   ]
  },
  {
   "cell_type": "code",
   "execution_count": 15,
   "metadata": {},
   "outputs": [
    {
     "name": "stdout",
     "output_type": "stream",
     "text": [
      "Enter Year in XXXX format:1992\n",
      "Enter the month number:05\n",
      "      May 1992\n",
      "Mo Tu We Th Fr Sa Su\n",
      "             1  2  3\n",
      " 4  5  6  7  8  9 10\n",
      "11 12 13 14 15 16 17\n",
      "18 19 20 21 22 23 24\n",
      "25 26 27 28 29 30 31\n",
      "\n"
     ]
    }
   ],
   "source": [
    "##3. Write a Python program to display calendar?\n",
    "import calendar\n",
    "yyyy = int(input(\"Enter Year in XXXX format:\"))\n",
    "mm = int(input(\"Enter the month number:\"))\n",
    "print(calendar.month(yyyy, mm))"
   ]
  },
  {
   "cell_type": "code",
   "execution_count": 16,
   "metadata": {},
   "outputs": [
    {
     "name": "stdout",
     "output_type": "stream",
     "text": [
      "Enter value for a:3\n",
      "Enter value for b:4\n",
      "Enter value for c:5\n",
      "Your quadratic equation is: '3X^2 + 4X + c = 0'\n",
      "The roots are: (-0.6666666666666666-1.1055415967851332j), (-0.6666666666666666+1.1055415967851332j)\n"
     ]
    }
   ],
   "source": [
    "##4. Write a Python program to solve quadratic equation?\n",
    "import cmath\n",
    "\n",
    "a = int(input(\"Enter value for a:\"))\n",
    "b = int(input(\"Enter value for b:\"))\n",
    "c = int(input(\"Enter value for c:\"))\n",
    "print(f\"Your quadratic equation is: '{a}X^2 + {b}X + c = 0'\")\n",
    "dis = (b**2) - (4 * a*c)\n",
    "print(f\"The roots are: {(-b-cmath.sqrt(dis))/(2 * a)}, {(-b + cmath.sqrt(dis))/(2 * a)}\")"
   ]
  },
  {
   "cell_type": "code",
   "execution_count": 18,
   "metadata": {},
   "outputs": [
    {
     "name": "stdout",
     "output_type": "stream",
     "text": [
      "Enter two numbers swap them!\n",
      "Enter value for a:6\n",
      "Enter value for b:7\n",
      "Swapped value of a is 7 and b is 6\n"
     ]
    }
   ],
   "source": [
    "##5. Write a Python program to swap two variables without temp variable?\n",
    "print(\"Enter two numbers swap them!\")\n",
    "a = int(input(\"Enter value for a:\"))\n",
    "b = int(input(\"Enter value for b:\"))\n",
    "# swap two integers\n",
    "a,b = b,a\n",
    "print(f\"Swapped value of a is {a} and b is {b}\")"
   ]
  },
  {
   "cell_type": "code",
   "execution_count": null,
   "metadata": {},
   "outputs": [],
   "source": []
  }
 ],
 "metadata": {
  "kernelspec": {
   "display_name": "Python 3",
   "language": "python",
   "name": "python3"
  },
  "language_info": {
   "codemirror_mode": {
    "name": "ipython",
    "version": 3
   },
   "file_extension": ".py",
   "mimetype": "text/x-python",
   "name": "python",
   "nbconvert_exporter": "python",
   "pygments_lexer": "ipython3",
   "version": "3.7.7"
  }
 },
 "nbformat": 4,
 "nbformat_minor": 4
}
