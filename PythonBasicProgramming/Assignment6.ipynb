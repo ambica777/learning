{
 "cells": [
  {
   "cell_type": "code",
   "execution_count": 37,
   "metadata": {},
   "outputs": [
    {
     "name": "stdout",
     "output_type": "stream",
     "text": [
      "0 1 1 2 3 5 8 13 21 34 55 "
     ]
    }
   ],
   "source": [
    "#1. Write a Python Program to Display Fibonacci Sequence Using Recursion?\n",
    "\n",
    "def fibonacci(a, b, n):\n",
    "    \"\"\"\n",
    "    Prints n fibonacci numbers starting from a, second element b\n",
    "    :param a: first element of your sequence\n",
    "    :param b: second element of your sequence\n",
    "    :return: None\n",
    "    \"\"\"\n",
    "    print(a, end = \" \")\n",
    "    a, b = b, a+b\n",
    "    if n > 0:\n",
    "        n -=1\n",
    "        fibonacci(a, b, n)\n",
    "\n",
    "        \n",
    "fibonacci(0, 1, 10)"
   ]
  },
  {
   "cell_type": "code",
   "execution_count": 38,
   "metadata": {},
   "outputs": [
    {
     "data": {
      "text/plain": [
       "5040"
      ]
     },
     "execution_count": 38,
     "metadata": {},
     "output_type": "execute_result"
    }
   ],
   "source": [
    "#2. Write a Python Program to Find Factorial of Number Using Recursion?\n",
    "def factorial(n):\n",
    "    \"\"\"\n",
    "    Returns the factorial of given number\n",
    "    :param n: number to find the factorial of\n",
    "    :return: None\n",
    "    \"\"\"\n",
    "    if n > 0:\n",
    "        return n * factorial(n-1)\n",
    "    return 1\n",
    "        \n",
    "factorial(7)"
   ]
  },
  {
   "cell_type": "code",
   "execution_count": 39,
   "metadata": {},
   "outputs": [
    {
     "name": "stdout",
     "output_type": "stream",
     "text": [
      "Enter your height in meters: 5\n",
      "Enter your Weight in Kg: 64\n",
      "Your Body Mass Index (BMI) score is:  2.56\n"
     ]
    }
   ],
   "source": [
    "#3. Write a Python Program to calculate your Body Mass Index?\n",
    "def bmi_calculate(height, weight):\n",
    "    \"\"\"\n",
    "    Calculates and shows your BMI score depending on your weight and height\n",
    "    :param height: height in meters\n",
    "    :param weight: weight in Kgs\n",
    "    \"\"\"\n",
    "    bmi = float(weight)/float(height*height)\n",
    "    if(bmi>0):\n",
    "        print(f\"Your Body Mass Index (BMI) score is:  {round(bmi, 2)}\")\n",
    "    else:\n",
    "        print(\"Could not calculate your BMI Score, enter valid details!\")\n",
    "\n",
    "\n",
    "h=float(input(\"Enter your height in meters: \"))\n",
    "w=float(input(\"Enter your Weight in Kg: \"))\n",
    "bmi_calculate(h, w)\n"
   ]
  },
  {
   "cell_type": "code",
   "execution_count": 40,
   "metadata": {},
   "outputs": [
    {
     "name": "stdout",
     "output_type": "stream",
     "text": [
      "Enter a number to calculate its natural logarithm (base e): 7\n",
      "natural logarithm of 7.0 is: 1.9459\n"
     ]
    }
   ],
   "source": [
    "#4. Write a Python Program to calculate the natural logarithm of any number?\n",
    "import math\n",
    "\n",
    "num = float(input(\"Enter a number to calculate its natural logarithm (base e): \"))\n",
    "\n",
    "print(f\"natural logarithm of {num} is: {round(math.log(num), 4)}\")"
   ]
  },
  {
   "cell_type": "code",
   "execution_count": 41,
   "metadata": {},
   "outputs": [
    {
     "name": "stdout",
     "output_type": "stream",
     "text": [
      "Enter a number to find sum of cubes of natural numbers till: 67\n",
      "cube sum of first 67 natural numbers is : 5189284.0\n"
     ]
    }
   ],
   "source": [
    "#5. Write a Python Program for cube sum of first n natural numbers?\n",
    "# formula: (n(n+1)*0.5)^2\n",
    "\n",
    "inp = int(input(\"Enter a number to find sum of cubes of natural numbers till: \"))\n",
    "\n",
    "print(f\"cube sum of first {inp} natural numbers is : {(inp*(inp+1)*0.5)**2}\")"
   ]
  },
  {
   "cell_type": "code",
   "execution_count": null,
   "metadata": {},
   "outputs": [],
   "source": []
  }
 ],
 "metadata": {
  "kernelspec": {
   "display_name": "Python 3",
   "language": "python",
   "name": "python3"
  },
  "language_info": {
   "codemirror_mode": {
    "name": "ipython",
    "version": 3
   },
   "file_extension": ".py",
   "mimetype": "text/x-python",
   "name": "python",
   "nbconvert_exporter": "python",
   "pygments_lexer": "ipython3",
   "version": "3.7.7"
  }
 },
 "nbformat": 4,
 "nbformat_minor": 4
}
