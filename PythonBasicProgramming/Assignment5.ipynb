{
 "cells": [
  {
   "cell_type": "code",
   "execution_count": 31,
   "metadata": {},
   "outputs": [
    {
     "name": "stdout",
     "output_type": "stream",
     "text": [
      "Enter two numbers to find LCM\n",
      "Enter first number: 4\n",
      "Enter second number: 6\n",
      "LCM of 4, 6 is 12\n"
     ]
    }
   ],
   "source": [
    "#1. Write a Python Program to Find LCM?\n",
    "print(\"Enter two numbers to find LCM\")\n",
    "a = int(input(\"Enter first number: \"))\n",
    "b = int(input(\"Enter second number: \"))\n",
    "number = max(a, b) # instead of start at 1 by default take max of given numbers\n",
    "while(True):\n",
    "    if number % a == 0 and number % b == 0:\n",
    "        # the least number which is perfectly divisible by given two numbers\n",
    "        break        \n",
    "    else:\n",
    "        number += 1\n",
    "print(f\"LCM of {a}, {b} is {number}\")"
   ]
  },
  {
   "cell_type": "code",
   "execution_count": 34,
   "metadata": {},
   "outputs": [
    {
     "name": "stdout",
     "output_type": "stream",
     "text": [
      "Enter two numbers to find HCF\n",
      "Enter first number: 4\n",
      "Enter second number: 8\n",
      "HCF of 4, 8 is 4\n"
     ]
    }
   ],
   "source": [
    "#2. Write a Python Program to Find HCF?\n",
    "print(\"Enter two numbers to find HCF\")\n",
    "a = int(input(\"Enter first number: \"))\n",
    "b = int(input(\"Enter second number: \"))\n",
    "hcf = 1\n",
    "smaller = min(a, b)\n",
    "for i in range(1, smaller + 1):\n",
    "    if a % i == 0 and b % i == 0:\n",
    "        # the least number which is perfectly divisible by given two numbers\n",
    "        hcf = i\n",
    "    else:\n",
    "        number += 1\n",
    "print(f\"HCF of {a}, {b} is {hcf}\")"
   ]
  },
  {
   "cell_type": "code",
   "execution_count": 35,
   "metadata": {},
   "outputs": [
    {
     "name": "stdout",
     "output_type": "stream",
     "text": [
      "Enter a number to convert: 67\n",
      "The decimal value 67 is:\n",
      "0b1000011 in binary.\n",
      "0o103 in octal.\n",
      "0x43 in hexadecimal.\n"
     ]
    }
   ],
   "source": [
    "#3. Write a Python Program to Convert Decimal to Binary, Octal and Hexadecimal?\n",
    "dec = int(input(\"Enter a number to convert: \"))\n",
    "\n",
    "print(f\"The decimal value {dec} is:\")\n",
    "print(f\"{bin(dec)} in binary.\")\n",
    "print(f\"{oct(dec)} in octal.\")\n",
    "print(f\"{hex(dec)} in hexadecimal.\")"
   ]
  },
  {
   "cell_type": "code",
   "execution_count": 33,
   "metadata": {},
   "outputs": [
    {
     "name": "stdout",
     "output_type": "stream",
     "text": [
      "Enter character to find the ASCII value: %\n",
      "%: 37\n"
     ]
    }
   ],
   "source": [
    "#4. Write a Python Program To Find ASCII value of a character?\n",
    "c = input(\"Enter character to find the ASCII value: \")\n",
    "print(f\"{c}: {ord(c)}\")"
   ]
  },
  {
   "cell_type": "code",
   "execution_count": 36,
   "metadata": {},
   "outputs": [
    {
     "name": "stdout",
     "output_type": "stream",
     "text": [
      "Select an operation to perform\n",
      "1.Add\n",
      "2.Subtract\n",
      "3.Multiply\n",
      "4.Divide\n",
      "Enter choice(1/2/3/4): 3\n",
      "You have selected option 3.Multiply, please input 2 numbers\n",
      "Enter first number: 4\n",
      "Enter second number: 8\n",
      "4 x 8 = 32\n",
      "Enter choice(1/2/3/4): hh\n",
      "Invalid input received, exiting the program\n"
     ]
    }
   ],
   "source": [
    "#5. Write a Python Program to Make a Simple Calculator with 4 basic mathematical operations?\n",
    "print(\"Select an operation to perform\")\n",
    "print(\"1.Add\")\n",
    "print(\"2.Subtract\")\n",
    "print(\"3.Multiply\")\n",
    "print(\"4.Divide\")\n",
    "\n",
    "while(True):\n",
    "    choice = input(\"Enter choice(1/2/3/4): \")\n",
    "    if choice in [\"1\", \"2\", \"3\", \"4\"]:\n",
    "        if choice == \"1\":\n",
    "            print(\"You have selected option 1.Add, please input 2 numbers\")\n",
    "            a = int(input(\"Enter first number: \"))\n",
    "            b = int(input(\"Enter second number: \"))\n",
    "            print(f\"{a} + {b} = {a+b}\")\n",
    "        elif choice == \"2\":\n",
    "            print(\"You have selected option 2.Substract, please input 2 numbers\")\n",
    "            a = int(input(\"Enter first number: \"))\n",
    "            b = int(input(\"Enter second number: \"))\n",
    "            print(f\"{a} - {b} = {a-b}\")\n",
    "        elif choice == \"3\":\n",
    "            print(\"You have selected option 3.Multiply, please input 2 numbers\")\n",
    "            a = int(input(\"Enter first number: \"))\n",
    "            b = int(input(\"Enter second number: \"))\n",
    "            print(f\"{a} x {b} = {a*b}\")\n",
    "        elif choice == \"4\":\n",
    "            print(\"You have selected option 4.Divide, please input 2 numbers\")\n",
    "            a = int(input(\"Enter first number: \"))\n",
    "            b = int(input(\"Enter second number: \"))\n",
    "            print(f\"{a} / {b} = {a/b}\")\n",
    "    else:\n",
    "        print(\"Invalid input received, exiting the program\")\n",
    "        break"
   ]
  },
  {
   "cell_type": "code",
   "execution_count": null,
   "metadata": {},
   "outputs": [],
   "source": []
  }
 ],
 "metadata": {
  "kernelspec": {
   "display_name": "Python 3",
   "language": "python",
   "name": "python3"
  },
  "language_info": {
   "codemirror_mode": {
    "name": "ipython",
    "version": 3
   },
   "file_extension": ".py",
   "mimetype": "text/x-python",
   "name": "python",
   "nbconvert_exporter": "python",
   "pygments_lexer": "ipython3",
   "version": "3.7.7"
  }
 },
 "nbformat": 4,
 "nbformat_minor": 4
}
