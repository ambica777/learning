{
 "cells": [
  {
   "cell_type": "code",
   "execution_count": 6,
   "metadata": {},
   "outputs": [
    {
     "name": "stdout",
     "output_type": "stream",
     "text": [
      "Hello Python\n"
     ]
    }
   ],
   "source": [
    "## 1. Write a Python program to print \"Hello Python\"?\n",
    "print(\"Hello Python\")"
   ]
  },
  {
   "cell_type": "code",
   "execution_count": 8,
   "metadata": {},
   "outputs": [
    {
     "name": "stdout",
     "output_type": "stream",
     "text": [
      "Enter two numbers to do arithmetical operations addition and division\n",
      "Enter first number:99\n",
      "Enter second number:10\n",
      "a + b = {a + b}\n",
      "a / b = 9.9\n"
     ]
    }
   ],
   "source": [
    "##2. Write a Python program to do arithmetical operations addition and division.?\n",
    "\n",
    "print(\"Enter two numbers to do arithmetical operations addition and division\")\n",
    "a = int(input(\"Enter first number:\"))\n",
    "b = int(input(\"Enter second number:\"))\n",
    "print(\"a + b = {a + b}\")\n",
    "print(f\"a / b = {a / b}\")"
   ]
  },
  {
   "cell_type": "code",
   "execution_count": 9,
   "metadata": {},
   "outputs": [
    {
     "name": "stdout",
     "output_type": "stream",
     "text": [
      "Enter base and height of the triangle to determine its area\n",
      "Enter value for base:6\n",
      "Enter value for height:5\n",
      "Area of triangle is: 15.0\n"
     ]
    }
   ],
   "source": [
    "##3. Write a Python program to find the area of a triangle?\n",
    "print(\"Enter base and height of the triangle to determine its area\")\n",
    "b = int(input(\"Enter value for base:\"))\n",
    "h = int(input(\"Enter value for height:\"))\n",
    "print(f\"Area of triangle is: {0.5 * b * h}\")"
   ]
  },
  {
   "cell_type": "code",
   "execution_count": null,
   "metadata": {},
   "outputs": [],
   "source": [
    "##4. Write a Python program to swap two variables?\n",
    "print(\"Enter two numbers to be swapped\")\n",
    "a = int(input(\"Enter first number\"))\n",
    "b = int(input(\"Enter second number\"))\n",
    "# swap two integers\n",
    "a,b = b,a\n",
    "print(f\"Swapped value of a is {a} and b is {b}\")"
   ]
  },
  {
   "cell_type": "code",
   "execution_count": null,
   "metadata": {},
   "outputs": [],
   "source": [
    "##5. Write a Python program to generate a random number?\n"
   ]
  }
 ],
 "metadata": {
  "kernelspec": {
   "display_name": "Python 3",
   "language": "python",
   "name": "python3"
  },
  "language_info": {
   "codemirror_mode": {
    "name": "ipython",
    "version": 3
   },
   "file_extension": ".py",
   "mimetype": "text/x-python",
   "name": "python",
   "nbconvert_exporter": "python",
   "pygments_lexer": "ipython3",
   "version": "3.7.7"
  }
 },
 "nbformat": 4,
 "nbformat_minor": 4
}
